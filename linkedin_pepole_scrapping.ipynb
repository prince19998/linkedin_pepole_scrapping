{
 "cells": [
  {
   "cell_type": "code",
   "execution_count": null,
   "id": "a8a6eb56-7dde-4448-b729-026226553c42",
   "metadata": {},
   "outputs": [],
   "source": [
    "from selenium import webdriver\n",
    "from selenium.webdriver.chrome.service import Service\n",
    "from selenium.webdriver.support.ui import WebDriverWait\n",
    "from selenium.webdriver.support import expected_conditions as EC\n",
    "from selenium.webdriver.common.keys import Keys\n",
    "import csv\n",
    "import urllib.request\n",
    "from bs4 import BeautifulSoup\n",
    "from html.parser import HTMLParser\n",
    "service_obj=Service(r\"C:/Users/Prince Gupta/Downloads/chromedriver-win64/chromedriver.exe\")\n",
    "driver=webdriver.Chrome(service=service_obj)\n",
    "from selenium.webdriver.common.by import By\n",
    "from selenium.webdriver.support.select import Select\n",
    "import time\n",
    "driver.implicitly_wait(3)\n",
    "\n",
    "\n",
    "email=input(\"enter linkedin user id\")\n",
    "password=input(\"enter the passwoerd\")\n",
    "\n",
    "driver.implicitly_wait(3)\n",
    "\n",
    "driver.get(\"https://www.linkedin.com/home\")\n",
    "driver.find_element(By.XPATH,\"//input[@type='text']\").send_keys(email)\n",
    "driver.find_element(By.XPATH,\"//input[@type='password']\").send_keys(password)\n",
    "\n",
    "\n",
    "submit_button = WebDriverWait(driver, 10).until(EC.element_to_be_clickable((By.XPATH, \"//button[contains(text(),'Sign in')]\")))\n",
    "submit_button.click()\n",
    "\n",
    "driver.implicitly_wait(3)\n",
    "\n",
    "\n",
    "\n",
    "\n",
    "search_input = driver.find_element(By.XPATH, \"//input[@placeholder='Search']\")\n",
    "search_input.send_keys(input(\"enter the name\"))\n",
    "search_input.send_keys(Keys.ENTER)\n",
    "\n",
    "profile_listings = driver.find_elements(By.XPATH, '//div[contains(@class,\"search-result__info\")]')\n",
    "\n",
    "\n",
    "with open('profile_listings.csv','w', newline='', encoding='utf-8') as csvfile:\n",
    "    csv_writer=csv.writer(csvfile)\n",
    "    csv_writer.writerow(['Name', 'Headline', 'Location', 'Profile Link'])\n",
    "\n",
    "\n",
    "    for listing in profile_listings:\n",
    "        name_element = listing.find_element(By.XPATH, './/span[@class=\"name actor-name\"]')\n",
    "        name = name_element.text\n",
    "        print(\"Name:\", name)\n",
    "        \n",
    "        headline_element = listing.find_element(By.XPATH, './/p[@class=\"subline-level-1 t-14 t-black t-normal search-result__truncate\"]')\n",
    "        headline = headline_element.text\n",
    "        print(\"Headline:\", headline)\n",
    "        \n",
    "        location_element = listing.find_element(By.XPATH, './/p[@class=\"subline-level-2 t-12 t-black--light t-normal search-result__truncate\"]')\n",
    "        location = location_element.text\n",
    "        print(\"Location:\", location)\n",
    "        \n",
    "        profile_link_element = listing.find_element(By.XPATH, './/a[@class=\"search-result__result-link ember-view\"]')\n",
    "        profile_link = profile_link_element.get_attribute('href')\n",
    "        print(\"Profile Link:\", profile_link)\n",
    "        print(\"-\"*50)\n",
    "        csv_writer.writerow([name, headline, location, profile_link])\n",
    "\n",
    "driver.quit()"
   ]
  }
 ],
 "metadata": {
  "kernelspec": {
   "display_name": "Python 3 (ipykernel)",
   "language": "python",
   "name": "python3"
  },
  "language_info": {
   "codemirror_mode": {
    "name": "ipython",
    "version": 3
   },
   "file_extension": ".py",
   "mimetype": "text/x-python",
   "name": "python",
   "nbconvert_exporter": "python",
   "pygments_lexer": "ipython3",
   "version": "3.11.7"
  },
  "widgets": {
   "application/vnd.jupyter.widget-state+json": {
    "state": {},
    "version_major": 2,
    "version_minor": 0
   }
  }
 },
 "nbformat": 4,
 "nbformat_minor": 5
}
